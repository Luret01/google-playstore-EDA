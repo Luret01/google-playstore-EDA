{
 "cells": [
  {
   "cell_type": "markdown",
   "id": "72656dcc",
   "metadata": {},
   "source": [
    "# Google Play Store Downloads EDA\n",
    "## Introduction\n",
    " Today, the use of mobile applications has become increasingly popular as it helps businesses run more effectively and efficiently. It is therefore important to carry out thorough research about your niche category in order improve customer experience and stand out against potential competitors. \n",
    "\n",
    "The dataset was retrieved from kaggle (https://www.kaggle.com/datasets/gauthamp10/google-playstore-apps). It contains information of roughly 2.3 mlilion applications on Google Play Store such as downloads, installs, ratings and other information.\n",
    "\n",
    "This analysis would help provide insights about Google Play Store downloads and answer the following questions:\n",
    "1. What are the top 10 categories in terms of downloads?\n",
    "2. What are the top 10 most installed apps?\n",
    "3. What are the top downloaded apps in each of these categories?\n",
    "4. What are the top 10 categories in terms of ratings?\n",
    "5. Do free apps or paid apps have a higher rating?\n",
    "6. Do ad supported apps or non-ad supported apps have a higher or lower rating?"
   ]
  },
  {
   "cell_type": "markdown",
   "id": "a380cb18",
   "metadata": {},
   "source": [
    "## Data cleaning and manipulation"
   ]
  },
  {
   "cell_type": "code",
   "execution_count": 4,
   "id": "cbc29798",
   "metadata": {},
   "outputs": [],
   "source": [
    "#import libraries\n",
    "import pandas as pd\n",
    "import matplotlib.pyplot as plt"
   ]
  },
  {
   "cell_type": "code",
   "execution_count": 5,
   "id": "33e59294",
   "metadata": {},
   "outputs": [
    {
     "data": {
      "text/html": [
       "<div>\n",
       "<style scoped>\n",
       "    .dataframe tbody tr th:only-of-type {\n",
       "        vertical-align: middle;\n",
       "    }\n",
       "\n",
       "    .dataframe tbody tr th {\n",
       "        vertical-align: top;\n",
       "    }\n",
       "\n",
       "    .dataframe thead th {\n",
       "        text-align: right;\n",
       "    }\n",
       "</style>\n",
       "<table border=\"1\" class=\"dataframe\">\n",
       "  <thead>\n",
       "    <tr style=\"text-align: right;\">\n",
       "      <th></th>\n",
       "      <th>App Name</th>\n",
       "      <th>App Id</th>\n",
       "      <th>Category</th>\n",
       "      <th>Rating</th>\n",
       "      <th>Rating Count</th>\n",
       "      <th>Installs</th>\n",
       "      <th>Minimum Installs</th>\n",
       "      <th>Maximum Installs</th>\n",
       "      <th>Free</th>\n",
       "      <th>Price</th>\n",
       "      <th>...</th>\n",
       "      <th>Developer Website</th>\n",
       "      <th>Developer Email</th>\n",
       "      <th>Released</th>\n",
       "      <th>Last Updated</th>\n",
       "      <th>Content Rating</th>\n",
       "      <th>Privacy Policy</th>\n",
       "      <th>Ad Supported</th>\n",
       "      <th>In App Purchases</th>\n",
       "      <th>Editors Choice</th>\n",
       "      <th>Scraped Time</th>\n",
       "    </tr>\n",
       "  </thead>\n",
       "  <tbody>\n",
       "    <tr>\n",
       "      <th>0</th>\n",
       "      <td>Gakondo</td>\n",
       "      <td>com.ishakwe.gakondo</td>\n",
       "      <td>Adventure</td>\n",
       "      <td>0.0</td>\n",
       "      <td>0.0</td>\n",
       "      <td>10+</td>\n",
       "      <td>10.0</td>\n",
       "      <td>15</td>\n",
       "      <td>True</td>\n",
       "      <td>0.0</td>\n",
       "      <td>...</td>\n",
       "      <td>https://beniyizibyose.tk/#/</td>\n",
       "      <td>jean21101999@gmail.com</td>\n",
       "      <td>Feb 26, 2020</td>\n",
       "      <td>Feb 26, 2020</td>\n",
       "      <td>Everyone</td>\n",
       "      <td>https://beniyizibyose.tk/projects/</td>\n",
       "      <td>False</td>\n",
       "      <td>False</td>\n",
       "      <td>False</td>\n",
       "      <td>2021-06-15 20:19:35</td>\n",
       "    </tr>\n",
       "    <tr>\n",
       "      <th>1</th>\n",
       "      <td>Ampere Battery Info</td>\n",
       "      <td>com.webserveis.batteryinfo</td>\n",
       "      <td>Tools</td>\n",
       "      <td>4.4</td>\n",
       "      <td>64.0</td>\n",
       "      <td>5,000+</td>\n",
       "      <td>5000.0</td>\n",
       "      <td>7662</td>\n",
       "      <td>True</td>\n",
       "      <td>0.0</td>\n",
       "      <td>...</td>\n",
       "      <td>https://webserveis.netlify.app/</td>\n",
       "      <td>webserveis@gmail.com</td>\n",
       "      <td>May 21, 2020</td>\n",
       "      <td>May 06, 2021</td>\n",
       "      <td>Everyone</td>\n",
       "      <td>https://dev4phones.wordpress.com/licencia-de-uso/</td>\n",
       "      <td>True</td>\n",
       "      <td>False</td>\n",
       "      <td>False</td>\n",
       "      <td>2021-06-15 20:19:35</td>\n",
       "    </tr>\n",
       "    <tr>\n",
       "      <th>2</th>\n",
       "      <td>Vibook</td>\n",
       "      <td>com.doantiepvien.crm</td>\n",
       "      <td>Productivity</td>\n",
       "      <td>0.0</td>\n",
       "      <td>0.0</td>\n",
       "      <td>50+</td>\n",
       "      <td>50.0</td>\n",
       "      <td>58</td>\n",
       "      <td>True</td>\n",
       "      <td>0.0</td>\n",
       "      <td>...</td>\n",
       "      <td>NaN</td>\n",
       "      <td>vnacrewit@gmail.com</td>\n",
       "      <td>Aug 9, 2019</td>\n",
       "      <td>Aug 19, 2019</td>\n",
       "      <td>Everyone</td>\n",
       "      <td>https://www.vietnamairlines.com/vn/en/terms-an...</td>\n",
       "      <td>False</td>\n",
       "      <td>False</td>\n",
       "      <td>False</td>\n",
       "      <td>2021-06-15 20:19:35</td>\n",
       "    </tr>\n",
       "    <tr>\n",
       "      <th>3</th>\n",
       "      <td>Smart City Trichy Public Service Vehicles 17UC...</td>\n",
       "      <td>cst.stJoseph.ug17ucs548</td>\n",
       "      <td>Communication</td>\n",
       "      <td>5.0</td>\n",
       "      <td>5.0</td>\n",
       "      <td>10+</td>\n",
       "      <td>10.0</td>\n",
       "      <td>19</td>\n",
       "      <td>True</td>\n",
       "      <td>0.0</td>\n",
       "      <td>...</td>\n",
       "      <td>http://www.climatesmarttech.com/</td>\n",
       "      <td>climatesmarttech2@gmail.com</td>\n",
       "      <td>Sep 10, 2018</td>\n",
       "      <td>Oct 13, 2018</td>\n",
       "      <td>Everyone</td>\n",
       "      <td>NaN</td>\n",
       "      <td>True</td>\n",
       "      <td>False</td>\n",
       "      <td>False</td>\n",
       "      <td>2021-06-15 20:19:35</td>\n",
       "    </tr>\n",
       "    <tr>\n",
       "      <th>4</th>\n",
       "      <td>GROW.me</td>\n",
       "      <td>com.horodyski.grower</td>\n",
       "      <td>Tools</td>\n",
       "      <td>0.0</td>\n",
       "      <td>0.0</td>\n",
       "      <td>100+</td>\n",
       "      <td>100.0</td>\n",
       "      <td>478</td>\n",
       "      <td>True</td>\n",
       "      <td>0.0</td>\n",
       "      <td>...</td>\n",
       "      <td>http://www.horodyski.com.pl</td>\n",
       "      <td>rmilekhorodyski@gmail.com</td>\n",
       "      <td>Feb 21, 2020</td>\n",
       "      <td>Nov 12, 2018</td>\n",
       "      <td>Everyone</td>\n",
       "      <td>http://www.horodyski.com.pl</td>\n",
       "      <td>False</td>\n",
       "      <td>False</td>\n",
       "      <td>False</td>\n",
       "      <td>2021-06-15 20:19:35</td>\n",
       "    </tr>\n",
       "  </tbody>\n",
       "</table>\n",
       "<p>5 rows × 24 columns</p>\n",
       "</div>"
      ],
      "text/plain": [
       "                                            App Name  \\\n",
       "0                                            Gakondo   \n",
       "1                                Ampere Battery Info   \n",
       "2                                             Vibook   \n",
       "3  Smart City Trichy Public Service Vehicles 17UC...   \n",
       "4                                            GROW.me   \n",
       "\n",
       "                       App Id       Category  Rating  Rating Count Installs  \\\n",
       "0         com.ishakwe.gakondo      Adventure     0.0           0.0      10+   \n",
       "1  com.webserveis.batteryinfo          Tools     4.4          64.0   5,000+   \n",
       "2        com.doantiepvien.crm   Productivity     0.0           0.0      50+   \n",
       "3     cst.stJoseph.ug17ucs548  Communication     5.0           5.0      10+   \n",
       "4        com.horodyski.grower          Tools     0.0           0.0     100+   \n",
       "\n",
       "   Minimum Installs  Maximum Installs  Free  Price  ...  \\\n",
       "0              10.0                15  True    0.0  ...   \n",
       "1            5000.0              7662  True    0.0  ...   \n",
       "2              50.0                58  True    0.0  ...   \n",
       "3              10.0                19  True    0.0  ...   \n",
       "4             100.0               478  True    0.0  ...   \n",
       "\n",
       "                  Developer Website              Developer Email  \\\n",
       "0       https://beniyizibyose.tk/#/       jean21101999@gmail.com   \n",
       "1   https://webserveis.netlify.app/         webserveis@gmail.com   \n",
       "2                               NaN          vnacrewit@gmail.com   \n",
       "3  http://www.climatesmarttech.com/  climatesmarttech2@gmail.com   \n",
       "4       http://www.horodyski.com.pl    rmilekhorodyski@gmail.com   \n",
       "\n",
       "       Released  Last Updated Content Rating  \\\n",
       "0  Feb 26, 2020  Feb 26, 2020       Everyone   \n",
       "1  May 21, 2020  May 06, 2021       Everyone   \n",
       "2   Aug 9, 2019  Aug 19, 2019       Everyone   \n",
       "3  Sep 10, 2018  Oct 13, 2018       Everyone   \n",
       "4  Feb 21, 2020  Nov 12, 2018       Everyone   \n",
       "\n",
       "                                      Privacy Policy Ad Supported  \\\n",
       "0                 https://beniyizibyose.tk/projects/        False   \n",
       "1  https://dev4phones.wordpress.com/licencia-de-uso/         True   \n",
       "2  https://www.vietnamairlines.com/vn/en/terms-an...        False   \n",
       "3                                                NaN         True   \n",
       "4                        http://www.horodyski.com.pl        False   \n",
       "\n",
       "  In App Purchases Editors Choice         Scraped Time  \n",
       "0            False          False  2021-06-15 20:19:35  \n",
       "1            False          False  2021-06-15 20:19:35  \n",
       "2            False          False  2021-06-15 20:19:35  \n",
       "3            False          False  2021-06-15 20:19:35  \n",
       "4            False          False  2021-06-15 20:19:35  \n",
       "\n",
       "[5 rows x 24 columns]"
      ]
     },
     "execution_count": 5,
     "metadata": {},
     "output_type": "execute_result"
    }
   ],
   "source": [
    "#load dataframe into pandas and view the first few rows\n",
    "apps = pd.read_csv(\"Google-Playstore.csv\")\n",
    "apps.head()"
   ]
  },
  {
   "cell_type": "code",
   "execution_count": 6,
   "id": "b9a4cbca",
   "metadata": {},
   "outputs": [
    {
     "name": "stdout",
     "output_type": "stream",
     "text": [
      "<class 'pandas.core.frame.DataFrame'>\n",
      "RangeIndex: 2312944 entries, 0 to 2312943\n",
      "Data columns (total 24 columns):\n",
      " #   Column             Dtype  \n",
      "---  ------             -----  \n",
      " 0   App Name           object \n",
      " 1   App Id             object \n",
      " 2   Category           object \n",
      " 3   Rating             float64\n",
      " 4   Rating Count       float64\n",
      " 5   Installs           object \n",
      " 6   Minimum Installs   float64\n",
      " 7   Maximum Installs   int64  \n",
      " 8   Free               bool   \n",
      " 9   Price              float64\n",
      " 10  Currency           object \n",
      " 11  Size               object \n",
      " 12  Minimum Android    object \n",
      " 13  Developer Id       object \n",
      " 14  Developer Website  object \n",
      " 15  Developer Email    object \n",
      " 16  Released           object \n",
      " 17  Last Updated       object \n",
      " 18  Content Rating     object \n",
      " 19  Privacy Policy     object \n",
      " 20  Ad Supported       bool   \n",
      " 21  In App Purchases   bool   \n",
      " 22  Editors Choice     bool   \n",
      " 23  Scraped Time       object \n",
      "dtypes: bool(4), float64(4), int64(1), object(15)\n",
      "memory usage: 361.8+ MB\n"
     ]
    }
   ],
   "source": [
    "#get more details about the data\n",
    "apps.info()"
   ]
  },
  {
   "cell_type": "code",
   "execution_count": 7,
   "id": "510ad1b7",
   "metadata": {},
   "outputs": [
    {
     "data": {
      "text/plain": [
       "Index(['app_name', 'app_id', 'category', 'rating', 'rating_count', 'installs',\n",
       "       'minimum_installs', 'maximum_installs', 'free', 'price', 'currency',\n",
       "       'size', 'minimum_android', 'developer_id', 'developer_website',\n",
       "       'developer_email', 'released', 'last_updated', 'content_rating',\n",
       "       'privacy_policy', 'ad_supported', 'in_app_purchases', 'editors_choice',\n",
       "       'scraped_time'],\n",
       "      dtype='object')"
      ]
     },
     "execution_count": 7,
     "metadata": {},
     "output_type": "execute_result"
    }
   ],
   "source": [
    "#Convert all column names to snake case and replace \" \" in the columns with \"_' \n",
    "apps.rename(lambda x: x.lower().strip().replace(' ', '_'), \n",
    "            axis='columns', inplace=True)\n",
    "apps.columns"
   ]
  },
  {
   "cell_type": "code",
   "execution_count": 8,
   "id": "528e4e4c",
   "metadata": {},
   "outputs": [
    {
     "data": {
      "text/plain": [
       "<AxesSubplot:>"
      ]
     },
     "execution_count": 8,
     "metadata": {},
     "output_type": "execute_result"
    },
    {
     "data": {
      "image/png": "[encoded data removed]",
      "text/plain": [
       "<Figure size 432x288 with 1 Axes>"
      ]
     },
     "metadata": {
      "needs_background": "light"
     },
     "output_type": "display_data"
    }
   ],
   "source": [
    "# Check for missing values and visualize\n",
    "missing= apps.isna().sum().sort_values(ascending= False)\n",
    "missing.plot(kind= \"bar\")"
   ]
  },
  {
   "cell_type": "code",
   "execution_count": 9,
   "id": "9d678355",
   "metadata": {},
   "outputs": [],
   "source": [
    "#drop columns that are not needed in the analysis\n",
    "apps.drop([\"app_id\", \"minimum_android\", \"developer_id\", \"developer_website\", \"developer_email\", \"privacy_policy\",\n",
    "           \"editors_choice\", \"scraped_time\"], axis=\"columns\", inplace=True)"
   ]
  },
  {
   "cell_type": "code",
   "execution_count": 10,
   "id": "62de93d4",
   "metadata": {},
   "outputs": [],
   "source": [
    "#drop the rows where there is insufficient data for the rest of the columns with null values\n",
    "apps.dropna(inplace= True)"
   ]
  },
  {
   "cell_type": "code",
   "execution_count": 11,
   "id": "17b17ef7",
   "metadata": {},
   "outputs": [
    {
     "data": {
      "text/plain": [
       "app_name            0\n",
       "category            0\n",
       "rating              0\n",
       "rating_count        0\n",
       "installs            0\n",
       "minimum_installs    0\n",
       "maximum_installs    0\n",
       "free                0\n",
       "price               0\n",
       "currency            0\n",
       "size                0\n",
       "released            0\n",
       "last_updated        0\n",
       "content_rating      0\n",
       "ad_supported        0\n",
       "in_app_purchases    0\n",
       "dtype: int64"
      ]
     },
     "execution_count": 11,
     "metadata": {},
     "output_type": "execute_result"
    }
   ],
   "source": [
    "#take a look at missing values again\n",
    "missing = apps.isna().sum().sort_values(ascending = False)\n",
    "missing"
   ]
  },
  {
   "cell_type": "code",
   "execution_count": 12,
   "id": "a7864a26",
   "metadata": {},
   "outputs": [
    {
     "data": {
      "text/plain": [
       "2241661"
      ]
     },
     "execution_count": 12,
     "metadata": {},
     "output_type": "execute_result"
    }
   ],
   "source": [
    "#get the total numner of rows we are working with\n",
    "len(apps)"
   ]
  },
  {
   "cell_type": "code",
   "execution_count": 13,
   "id": "ad3d7ce8",
   "metadata": {},
   "outputs": [
    {
     "data": {
      "text/plain": [
       "array(['Adventure', 'Tools', 'Productivity', 'Communication', 'Social',\n",
       "       'Libraries & Demo', 'Lifestyle', 'Personalization', 'Racing',\n",
       "       'Maps & Navigation', 'Travel & Local', 'Food & Drink',\n",
       "       'Books & Reference', 'Medical', 'Puzzle', 'Entertainment',\n",
       "       'Arcade', 'Auto & Vehicles', 'Photography', 'Health & Fitness',\n",
       "       'Education', 'Shopping', 'Board', 'Music', 'Sports', 'Beauty',\n",
       "       'Business', 'Finance', 'News & Magazines', 'Casual',\n",
       "       'Art & Design', 'House & Home', 'Card', 'Events', 'Trivia',\n",
       "       'Weather', 'Strategy', 'Word', 'Video Players & Editors', 'Action',\n",
       "       'Simulation', 'Dating', 'Role Playing', 'Casino', 'Comics',\n",
       "       'Parenting'], dtype=object)"
      ]
     },
     "execution_count": 13,
     "metadata": {},
     "output_type": "execute_result"
    }
   ],
   "source": [
    "#replacing the names of some categories\n",
    "apps['category'] = apps['category'].str.replace('Music & Audio', 'Music')\n",
    "apps['category'] = apps['category'].str.replace('Educational', 'Education')\n",
    "apps.category.unique()"
   ]
  },
  {
   "cell_type": "markdown",
   "id": "0389c592",
   "metadata": {},
   "source": [
    "## Analysis and Visualization"
   ]
  },
  {
   "cell_type": "markdown",
   "id": "4cc3d806",
   "metadata": {},
   "source": [
    "##### 1. What are the top 10 categories in terms of downloads?"
   ]
  },
  {
   "cell_type": "code",
   "execution_count": 14,
   "id": "1698e54a",
   "metadata": {},
   "outputs": [
    {
     "data": {
      "text/plain": [
       "Education            256839\n",
       "Music                157546\n",
       "Tools                138318\n",
       "Business             136537\n",
       "Entertainment        135469\n",
       "Books & Reference    115534\n",
       "Lifestyle            115332\n",
       "Personalization       88860\n",
       "Health & Fitness      80713\n",
       "Productivity          75263\n",
       "Name: category, dtype: int64"
      ]
     },
     "execution_count": 14,
     "metadata": {},
     "output_type": "execute_result"
    }
   ],
   "source": [
    "#check to see how many apps are in each category\n",
    "count_apps_cat = apps.category.value_counts()\n",
    "count_apps_cat[:10]"
   ]
  },
  {
   "cell_type": "code",
   "execution_count": 15,
   "id": "0d438069",
   "metadata": {},
   "outputs": [
    {
     "data": {
      "text/plain": [
       "<AxesSubplot:>"
      ]
     },
     "execution_count": 15,
     "metadata": {},
     "output_type": "execute_result"
    },
    {
     "data": {
      "image/png": "[encoded data removed]",
      "text/plain": [
       "<Figure size 432x288 with 1 Axes>"
      ]
     },
     "metadata": {
      "needs_background": "light"
     },
     "output_type": "display_data"
    }
   ],
   "source": [
    "count_apps_cat[:10].plot(kind = 'bar')"
   ]
  },
  {
   "cell_type": "markdown",
   "id": "7ec66c0c",
   "metadata": {},
   "source": [
    "Education has the highest number of apps on Google Play Store, followed by music."
   ]
  },
  {
   "cell_type": "code",
   "execution_count": 16,
   "id": "3edc81d3",
   "metadata": {},
   "outputs": [
    {
     "data": {
      "text/plain": [
       "Role Playing        9202\n",
       "Word                8398\n",
       "Strategy            8076\n",
       "Card                7915\n",
       "Weather             6959\n",
       "Dating              6328\n",
       "Casino              4922\n",
       "Libraries & Demo    4797\n",
       "Parenting           3598\n",
       "Comics              2768\n",
       "Name: category, dtype: int64"
      ]
     },
     "execution_count": 16,
     "metadata": {},
     "output_type": "execute_result"
    }
   ],
   "source": [
    "#Also check for categories have the least number of apps?\n",
    "count_apps_cat[-10:]"
   ]
  },
  {
   "cell_type": "code",
   "execution_count": 17,
   "id": "a5ab641a",
   "metadata": {},
   "outputs": [
    {
     "data": {
      "text/plain": [
       "<AxesSubplot:>"
      ]
     },
     "execution_count": 17,
     "metadata": {},
     "output_type": "execute_result"
    },
    {
     "data": {
      "image/png": "[encoded data removed]",
      "text/plain": [
       "<Figure size 432x288 with 1 Axes>"
      ]
     },
     "metadata": {
      "needs_background": "light"
     },
     "output_type": "display_data"
    }
   ],
   "source": [
    "count_apps_cat[-10:].plot(kind = 'bar')"
   ]
  },
  {
   "cell_type": "markdown",
   "id": "a62b6c79",
   "metadata": {},
   "source": [
    "Comics and parenting have the least number of apps on Google Play Store."
   ]
  },
  {
   "cell_type": "markdown",
   "id": "806d8a5e",
   "metadata": {},
   "source": [
    "To answer Question 1, Let's see which categories are the most downloaded based on the number of installs. We will be using the 'maximum_installs' column to calculate this."
   ]
  },
  {
   "cell_type": "code",
   "execution_count": 25,
   "id": "8b14f6f3",
   "metadata": {},
   "outputs": [
    {
     "data": {
      "text/html": [
       "<div>\n",
       "<style scoped>\n",
       "    .dataframe tbody tr th:only-of-type {\n",
       "        vertical-align: middle;\n",
       "    }\n",
       "\n",
       "    .dataframe tbody tr th {\n",
       "        vertical-align: top;\n",
       "    }\n",
       "\n",
       "    .dataframe thead th {\n",
       "        text-align: right;\n",
       "    }\n",
       "</style>\n",
       "<table border=\"1\" class=\"dataframe\">\n",
       "  <thead>\n",
       "    <tr style=\"text-align: right;\">\n",
       "      <th></th>\n",
       "      <th>maximum_installs</th>\n",
       "    </tr>\n",
       "    <tr>\n",
       "      <th>category</th>\n",
       "      <th></th>\n",
       "    </tr>\n",
       "  </thead>\n",
       "  <tbody>\n",
       "    <tr>\n",
       "      <th>Tools</th>\n",
       "      <td>108140094730</td>\n",
       "    </tr>\n",
       "    <tr>\n",
       "      <th>Communication</th>\n",
       "      <td>71757673734</td>\n",
       "    </tr>\n",
       "    <tr>\n",
       "      <th>Productivity</th>\n",
       "      <td>44070317588</td>\n",
       "    </tr>\n",
       "    <tr>\n",
       "      <th>Photography</th>\n",
       "      <td>30945774122</td>\n",
       "    </tr>\n",
       "    <tr>\n",
       "      <th>Video Players &amp; Editors</th>\n",
       "      <td>30497378962</td>\n",
       "    </tr>\n",
       "    <tr>\n",
       "      <th>Action</th>\n",
       "      <td>30332363333</td>\n",
       "    </tr>\n",
       "    <tr>\n",
       "      <th>Entertainment</th>\n",
       "      <td>30116734317</td>\n",
       "    </tr>\n",
       "    <tr>\n",
       "      <th>Casual</th>\n",
       "      <td>29885286313</td>\n",
       "    </tr>\n",
       "    <tr>\n",
       "      <th>Arcade</th>\n",
       "      <td>25373507231</td>\n",
       "    </tr>\n",
       "    <tr>\n",
       "      <th>Social</th>\n",
       "      <td>24551753543</td>\n",
       "    </tr>\n",
       "  </tbody>\n",
       "</table>\n",
       "</div>"
      ],
      "text/plain": [
       "                         maximum_installs\n",
       "category                                 \n",
       "Tools                        108140094730\n",
       "Communication                 71757673734\n",
       "Productivity                  44070317588\n",
       "Photography                   30945774122\n",
       "Video Players & Editors       30497378962\n",
       "Action                        30332363333\n",
       "Entertainment                 30116734317\n",
       "Casual                        29885286313\n",
       "Arcade                        25373507231\n",
       "Social                        24551753543"
      ]
     },
     "execution_count": 25,
     "metadata": {},
     "output_type": "execute_result"
    }
   ],
   "source": [
    "#Top 10 categories by number of installs. We use maximum_installs as the number of installs\n",
    "category_installs = apps.groupby([\"category\"])[[\"maximum_installs\"]].sum().sort_values(\"maximum_installs\", ascending= False)\n",
    "category_installs.head(10)"
   ]
  },
  {
   "cell_type": "code",
   "execution_count": 26,
   "id": "7748d6e9",
   "metadata": {},
   "outputs": [
    {
     "data": {
      "text/plain": [
       "<AxesSubplot:xlabel='category'>"
      ]
     },
     "execution_count": 26,
     "metadata": {},
     "output_type": "execute_result"
    },
    {
     "data": {
      "image/png": "[encoded data removed]",
      "text/plain": [
       "<Figure size 432x288 with 1 Axes>"
      ]
     },
     "metadata": {
      "needs_background": "light"
     },
     "output_type": "display_data"
    }
   ],
   "source": [
    "#visualize top 10 categories\n",
    "category_installs.head(10).plot(kind = 'bar')"
   ]
  },
  {
   "cell_type": "markdown",
   "id": "c6676754",
   "metadata": {},
   "source": [
    "Not surprsisingly, the category \"Tools\" has the highest number of installs which probably include most popular everyday apps."
   ]
  },
  {
   "cell_type": "markdown",
   "id": "62bf172a",
   "metadata": {},
   "source": [
    "##### 2. What are top 10 most installed apps?"
   ]
  },
  {
   "cell_type": "code",
   "execution_count": 28,
   "id": "3fc3a0e2",
   "metadata": {},
   "outputs": [
    {
     "data": {
      "text/html": [
       "<div>\n",
       "<style scoped>\n",
       "    .dataframe tbody tr th:only-of-type {\n",
       "        vertical-align: middle;\n",
       "    }\n",
       "\n",
       "    .dataframe tbody tr th {\n",
       "        vertical-align: top;\n",
       "    }\n",
       "\n",
       "    .dataframe thead th {\n",
       "        text-align: right;\n",
       "    }\n",
       "</style>\n",
       "<table border=\"1\" class=\"dataframe\">\n",
       "  <thead>\n",
       "    <tr style=\"text-align: right;\">\n",
       "      <th></th>\n",
       "      <th>maximum_installs</th>\n",
       "    </tr>\n",
       "    <tr>\n",
       "      <th>app_name</th>\n",
       "      <th></th>\n",
       "    </tr>\n",
       "  </thead>\n",
       "  <tbody>\n",
       "    <tr>\n",
       "      <th>Google Play services</th>\n",
       "      <td>12057627016</td>\n",
       "    </tr>\n",
       "    <tr>\n",
       "      <th>YouTube</th>\n",
       "      <td>9766230924</td>\n",
       "    </tr>\n",
       "    <tr>\n",
       "      <th>Google</th>\n",
       "      <td>9154248491</td>\n",
       "    </tr>\n",
       "    <tr>\n",
       "      <th>Google Text-to-Speech</th>\n",
       "      <td>9034404884</td>\n",
       "    </tr>\n",
       "    <tr>\n",
       "      <th>Google Chrome: Fast &amp; Secure</th>\n",
       "      <td>8925640788</td>\n",
       "    </tr>\n",
       "    <tr>\n",
       "      <th>Gmail</th>\n",
       "      <td>8756574289</td>\n",
       "    </tr>\n",
       "    <tr>\n",
       "      <th>Google Drive</th>\n",
       "      <td>7028265259</td>\n",
       "    </tr>\n",
       "    <tr>\n",
       "      <th>WhatsApp Messenger</th>\n",
       "      <td>6265637751</td>\n",
       "    </tr>\n",
       "    <tr>\n",
       "      <th>Google TV (previously Play Movies &amp; TV)</th>\n",
       "      <td>6156518915</td>\n",
       "    </tr>\n",
       "    <tr>\n",
       "      <th>Google Photos</th>\n",
       "      <td>5754179589</td>\n",
       "    </tr>\n",
       "  </tbody>\n",
       "</table>\n",
       "</div>"
      ],
      "text/plain": [
       "                                         maximum_installs\n",
       "app_name                                                 \n",
       "Google Play services                          12057627016\n",
       "YouTube                                        9766230924\n",
       "Google                                         9154248491\n",
       "Google Text-to-Speech                          9034404884\n",
       "Google Chrome: Fast & Secure                   8925640788\n",
       "Gmail                                          8756574289\n",
       "Google Drive                                   7028265259\n",
       "WhatsApp Messenger                             6265637751\n",
       "Google TV (previously Play Movies & TV)        6156518915\n",
       "Google Photos                                  5754179589"
      ]
     },
     "execution_count": 28,
     "metadata": {},
     "output_type": "execute_result"
    }
   ],
   "source": [
    "#top 10 most installed apps\n",
    "most_installed_apps = apps.groupby([\"app_name\"])[[\"maximum_installs\"]].sum().sort_values(\"maximum_installs\", ascending= False)\n",
    "most_installed_apps.head(10)"
   ]
  },
  {
   "cell_type": "code",
   "execution_count": 29,
   "id": "a6a8fc27",
   "metadata": {},
   "outputs": [
    {
     "data": {
      "text/plain": [
       "<AxesSubplot:xlabel='app_name'>"
      ]
     },
     "execution_count": 29,
     "metadata": {},
     "output_type": "execute_result"
    },
    {
     "data": {
      "image/png": "[encoded data removed]",
      "text/plain": [
       "<Figure size 432x288 with 1 Axes>"
      ]
     },
     "metadata": {
      "needs_background": "light"
     },
     "output_type": "display_data"
    }
   ],
   "source": [
    "most_installed_apps.head(10).plot(kind = 'bar')"
   ]
  },
  {
   "cell_type": "markdown",
   "id": "14d7b0cb",
   "metadata": {},
   "source": [
    "It looks like Google Play services is the most installed. However, it comes automatically installed on all android devices so we drop this value."
   ]
  },
  {
   "cell_type": "code",
   "execution_count": 30,
   "id": "53580fd4",
   "metadata": {},
   "outputs": [
    {
     "data": {
      "text/html": [
       "<div>\n",
       "<style scoped>\n",
       "    .dataframe tbody tr th:only-of-type {\n",
       "        vertical-align: middle;\n",
       "    }\n",
       "\n",
       "    .dataframe tbody tr th {\n",
       "        vertical-align: top;\n",
       "    }\n",
       "\n",
       "    .dataframe thead th {\n",
       "        text-align: right;\n",
       "    }\n",
       "</style>\n",
       "<table border=\"1\" class=\"dataframe\">\n",
       "  <thead>\n",
       "    <tr style=\"text-align: right;\">\n",
       "      <th></th>\n",
       "      <th>maximum_installs</th>\n",
       "    </tr>\n",
       "    <tr>\n",
       "      <th>app_name</th>\n",
       "      <th></th>\n",
       "    </tr>\n",
       "  </thead>\n",
       "  <tbody>\n",
       "    <tr>\n",
       "      <th>YouTube</th>\n",
       "      <td>9766230924</td>\n",
       "    </tr>\n",
       "    <tr>\n",
       "      <th>Google</th>\n",
       "      <td>9154248491</td>\n",
       "    </tr>\n",
       "    <tr>\n",
       "      <th>Google Text-to-Speech</th>\n",
       "      <td>9034404884</td>\n",
       "    </tr>\n",
       "    <tr>\n",
       "      <th>Google Chrome: Fast &amp; Secure</th>\n",
       "      <td>8925640788</td>\n",
       "    </tr>\n",
       "    <tr>\n",
       "      <th>Gmail</th>\n",
       "      <td>8756574289</td>\n",
       "    </tr>\n",
       "    <tr>\n",
       "      <th>Google Drive</th>\n",
       "      <td>7028265259</td>\n",
       "    </tr>\n",
       "    <tr>\n",
       "      <th>WhatsApp Messenger</th>\n",
       "      <td>6265637751</td>\n",
       "    </tr>\n",
       "    <tr>\n",
       "      <th>Google TV (previously Play Movies &amp; TV)</th>\n",
       "      <td>6156518915</td>\n",
       "    </tr>\n",
       "    <tr>\n",
       "      <th>Google Photos</th>\n",
       "      <td>5754179589</td>\n",
       "    </tr>\n",
       "    <tr>\n",
       "      <th>Messenger – Text and Video Chat for Free</th>\n",
       "      <td>5054312355</td>\n",
       "    </tr>\n",
       "  </tbody>\n",
       "</table>\n",
       "</div>"
      ],
      "text/plain": [
       "                                          maximum_installs\n",
       "app_name                                                  \n",
       "YouTube                                         9766230924\n",
       "Google                                          9154248491\n",
       "Google Text-to-Speech                           9034404884\n",
       "Google Chrome: Fast & Secure                    8925640788\n",
       "Gmail                                           8756574289\n",
       "Google Drive                                    7028265259\n",
       "WhatsApp Messenger                              6265637751\n",
       "Google TV (previously Play Movies & TV)         6156518915\n",
       "Google Photos                                   5754179589\n",
       "Messenger – Text and Video Chat for Free        5054312355"
      ]
     },
     "execution_count": 30,
     "metadata": {},
     "output_type": "execute_result"
    }
   ],
   "source": [
    "#Exclude Google Play services\n",
    "apps = apps[apps.app_name != 'Google Play services']\n",
    "most_installed_apps = apps.groupby([\"app_name\"])[[\"maximum_installs\"]].sum().sort_values(\"maximum_installs\", ascending= False)\n",
    "most_installed_apps.head(10)"
   ]
  },
  {
   "cell_type": "markdown",
   "id": "4b355cb7",
   "metadata": {},
   "source": [
    "The most installed app on Google Play Store is YouTube"
   ]
  },
  {
   "cell_type": "markdown",
   "id": "57bdd36f",
   "metadata": {},
   "source": [
    "##### 3. What are the top 10 most installed apps for the top 10 categories?"
   ]
  },
  {
   "cell_type": "code",
   "execution_count": 33,
   "id": "80a53cbb",
   "metadata": {},
   "outputs": [
    {
     "data": {
      "text/html": [
       "<div>\n",
       "<style scoped>\n",
       "    .dataframe tbody tr th:only-of-type {\n",
       "        vertical-align: middle;\n",
       "    }\n",
       "\n",
       "    .dataframe tbody tr th {\n",
       "        vertical-align: top;\n",
       "    }\n",
       "\n",
       "    .dataframe thead th {\n",
       "        text-align: right;\n",
       "    }\n",
       "</style>\n",
       "<table border=\"1\" class=\"dataframe\">\n",
       "  <thead>\n",
       "    <tr style=\"text-align: right;\">\n",
       "      <th></th>\n",
       "      <th>app_name</th>\n",
       "      <th>category</th>\n",
       "      <th>rating</th>\n",
       "      <th>rating_count</th>\n",
       "      <th>installs</th>\n",
       "      <th>minimum_installs</th>\n",
       "      <th>maximum_installs</th>\n",
       "      <th>free</th>\n",
       "      <th>price</th>\n",
       "      <th>currency</th>\n",
       "      <th>size</th>\n",
       "      <th>released</th>\n",
       "      <th>last_updated</th>\n",
       "      <th>content_rating</th>\n",
       "      <th>ad_supported</th>\n",
       "      <th>in_app_purchases</th>\n",
       "    </tr>\n",
       "  </thead>\n",
       "  <tbody>\n",
       "    <tr>\n",
       "      <th>1</th>\n",
       "      <td>Ampere Battery Info</td>\n",
       "      <td>Tools</td>\n",
       "      <td>4.4</td>\n",
       "      <td>64.0</td>\n",
       "      <td>5,000+</td>\n",
       "      <td>5000.0</td>\n",
       "      <td>7662</td>\n",
       "      <td>True</td>\n",
       "      <td>0.0</td>\n",
       "      <td>USD</td>\n",
       "      <td>2.9M</td>\n",
       "      <td>May 21, 2020</td>\n",
       "      <td>May 06, 2021</td>\n",
       "      <td>Everyone</td>\n",
       "      <td>True</td>\n",
       "      <td>False</td>\n",
       "    </tr>\n",
       "    <tr>\n",
       "      <th>2</th>\n",
       "      <td>Vibook</td>\n",
       "      <td>Productivity</td>\n",
       "      <td>0.0</td>\n",
       "      <td>0.0</td>\n",
       "      <td>50+</td>\n",
       "      <td>50.0</td>\n",
       "      <td>58</td>\n",
       "      <td>True</td>\n",
       "      <td>0.0</td>\n",
       "      <td>USD</td>\n",
       "      <td>3.7M</td>\n",
       "      <td>Aug 9, 2019</td>\n",
       "      <td>Aug 19, 2019</td>\n",
       "      <td>Everyone</td>\n",
       "      <td>False</td>\n",
       "      <td>False</td>\n",
       "    </tr>\n",
       "    <tr>\n",
       "      <th>3</th>\n",
       "      <td>Smart City Trichy Public Service Vehicles 17UC...</td>\n",
       "      <td>Communication</td>\n",
       "      <td>5.0</td>\n",
       "      <td>5.0</td>\n",
       "      <td>10+</td>\n",
       "      <td>10.0</td>\n",
       "      <td>19</td>\n",
       "      <td>True</td>\n",
       "      <td>0.0</td>\n",
       "      <td>USD</td>\n",
       "      <td>1.8M</td>\n",
       "      <td>Sep 10, 2018</td>\n",
       "      <td>Oct 13, 2018</td>\n",
       "      <td>Everyone</td>\n",
       "      <td>True</td>\n",
       "      <td>False</td>\n",
       "    </tr>\n",
       "    <tr>\n",
       "      <th>4</th>\n",
       "      <td>GROW.me</td>\n",
       "      <td>Tools</td>\n",
       "      <td>0.0</td>\n",
       "      <td>0.0</td>\n",
       "      <td>100+</td>\n",
       "      <td>100.0</td>\n",
       "      <td>478</td>\n",
       "      <td>True</td>\n",
       "      <td>0.0</td>\n",
       "      <td>USD</td>\n",
       "      <td>6.2M</td>\n",
       "      <td>Feb 21, 2020</td>\n",
       "      <td>Nov 12, 2018</td>\n",
       "      <td>Everyone</td>\n",
       "      <td>False</td>\n",
       "      <td>False</td>\n",
       "    </tr>\n",
       "    <tr>\n",
       "      <th>5</th>\n",
       "      <td>IMOCCI</td>\n",
       "      <td>Social</td>\n",
       "      <td>0.0</td>\n",
       "      <td>0.0</td>\n",
       "      <td>50+</td>\n",
       "      <td>50.0</td>\n",
       "      <td>89</td>\n",
       "      <td>True</td>\n",
       "      <td>0.0</td>\n",
       "      <td>USD</td>\n",
       "      <td>46M</td>\n",
       "      <td>Dec 24, 2018</td>\n",
       "      <td>Dec 20, 2019</td>\n",
       "      <td>Teen</td>\n",
       "      <td>False</td>\n",
       "      <td>True</td>\n",
       "    </tr>\n",
       "    <tr>\n",
       "      <th>17</th>\n",
       "      <td>All in one shopping app</td>\n",
       "      <td>Tools</td>\n",
       "      <td>5.0</td>\n",
       "      <td>6.0</td>\n",
       "      <td>50+</td>\n",
       "      <td>50.0</td>\n",
       "      <td>62</td>\n",
       "      <td>True</td>\n",
       "      <td>0.0</td>\n",
       "      <td>USD</td>\n",
       "      <td>2.0M</td>\n",
       "      <td>Apr 24, 2019</td>\n",
       "      <td>May 05, 2019</td>\n",
       "      <td>Everyone</td>\n",
       "      <td>False</td>\n",
       "      <td>False</td>\n",
       "    </tr>\n",
       "    <tr>\n",
       "      <th>20</th>\n",
       "      <td>Nepali Congress</td>\n",
       "      <td>Social</td>\n",
       "      <td>0.0</td>\n",
       "      <td>0.0</td>\n",
       "      <td>100+</td>\n",
       "      <td>100.0</td>\n",
       "      <td>336</td>\n",
       "      <td>True</td>\n",
       "      <td>0.0</td>\n",
       "      <td>USD</td>\n",
       "      <td>24M</td>\n",
       "      <td>May 31, 2021</td>\n",
       "      <td>May 31, 2021</td>\n",
       "      <td>Everyone</td>\n",
       "      <td>False</td>\n",
       "      <td>False</td>\n",
       "    </tr>\n",
       "    <tr>\n",
       "      <th>23</th>\n",
       "      <td>Coloring Book Barbaie</td>\n",
       "      <td>Entertainment</td>\n",
       "      <td>3.8</td>\n",
       "      <td>736.0</td>\n",
       "      <td>500,000+</td>\n",
       "      <td>500000.0</td>\n",
       "      <td>646456</td>\n",
       "      <td>True</td>\n",
       "      <td>0.0</td>\n",
       "      <td>USD</td>\n",
       "      <td>20M</td>\n",
       "      <td>Apr 21, 2019</td>\n",
       "      <td>Nov 13, 2020</td>\n",
       "      <td>Everyone</td>\n",
       "      <td>True</td>\n",
       "      <td>False</td>\n",
       "    </tr>\n",
       "    <tr>\n",
       "      <th>24</th>\n",
       "      <td>Random Number Generator</td>\n",
       "      <td>Tools</td>\n",
       "      <td>4.2</td>\n",
       "      <td>35.0</td>\n",
       "      <td>10,000+</td>\n",
       "      <td>10000.0</td>\n",
       "      <td>21124</td>\n",
       "      <td>True</td>\n",
       "      <td>0.0</td>\n",
       "      <td>USD</td>\n",
       "      <td>2.4M</td>\n",
       "      <td>May 28, 2017</td>\n",
       "      <td>May 30, 2020</td>\n",
       "      <td>Everyone</td>\n",
       "      <td>True</td>\n",
       "      <td>False</td>\n",
       "    </tr>\n",
       "    <tr>\n",
       "      <th>25</th>\n",
       "      <td>Sticky Ball</td>\n",
       "      <td>Arcade</td>\n",
       "      <td>4.6</td>\n",
       "      <td>11.0</td>\n",
       "      <td>100+</td>\n",
       "      <td>100.0</td>\n",
       "      <td>152</td>\n",
       "      <td>True</td>\n",
       "      <td>0.0</td>\n",
       "      <td>USD</td>\n",
       "      <td>25M</td>\n",
       "      <td>Mar 5, 2018</td>\n",
       "      <td>Mar 26, 2018</td>\n",
       "      <td>Everyone</td>\n",
       "      <td>True</td>\n",
       "      <td>True</td>\n",
       "    </tr>\n",
       "  </tbody>\n",
       "</table>\n",
       "</div>"
      ],
      "text/plain": [
       "                                             app_name       category  rating  \\\n",
       "1                                 Ampere Battery Info          Tools     4.4   \n",
       "2                                              Vibook   Productivity     0.0   \n",
       "3   Smart City Trichy Public Service Vehicles 17UC...  Communication     5.0   \n",
       "4                                             GROW.me          Tools     0.0   \n",
       "5                                              IMOCCI         Social     0.0   \n",
       "17                            All in one shopping app          Tools     5.0   \n",
       "20                                    Nepali Congress         Social     0.0   \n",
       "23                              Coloring Book Barbaie  Entertainment     3.8   \n",
       "24                            Random Number Generator          Tools     4.2   \n",
       "25                                        Sticky Ball         Arcade     4.6   \n",
       "\n",
       "    rating_count  installs  minimum_installs  maximum_installs  free  price  \\\n",
       "1           64.0    5,000+            5000.0              7662  True    0.0   \n",
       "2            0.0       50+              50.0                58  True    0.0   \n",
       "3            5.0       10+              10.0                19  True    0.0   \n",
       "4            0.0      100+             100.0               478  True    0.0   \n",
       "5            0.0       50+              50.0                89  True    0.0   \n",
       "17           6.0       50+              50.0                62  True    0.0   \n",
       "20           0.0      100+             100.0               336  True    0.0   \n",
       "23         736.0  500,000+          500000.0            646456  True    0.0   \n",
       "24          35.0   10,000+           10000.0             21124  True    0.0   \n",
       "25          11.0      100+             100.0               152  True    0.0   \n",
       "\n",
       "   currency  size      released  last_updated content_rating  ad_supported  \\\n",
       "1       USD  2.9M  May 21, 2020  May 06, 2021       Everyone          True   \n",
       "2       USD  3.7M   Aug 9, 2019  Aug 19, 2019       Everyone         False   \n",
       "3       USD  1.8M  Sep 10, 2018  Oct 13, 2018       Everyone          True   \n",
       "4       USD  6.2M  Feb 21, 2020  Nov 12, 2018       Everyone         False   \n",
       "5       USD   46M  Dec 24, 2018  Dec 20, 2019           Teen         False   \n",
       "17      USD  2.0M  Apr 24, 2019  May 05, 2019       Everyone         False   \n",
       "20      USD   24M  May 31, 2021  May 31, 2021       Everyone         False   \n",
       "23      USD   20M  Apr 21, 2019  Nov 13, 2020       Everyone          True   \n",
       "24      USD  2.4M  May 28, 2017  May 30, 2020       Everyone          True   \n",
       "25      USD   25M   Mar 5, 2018  Mar 26, 2018       Everyone          True   \n",
       "\n",
       "    in_app_purchases  \n",
       "1              False  \n",
       "2              False  \n",
       "3              False  \n",
       "4              False  \n",
       "5               True  \n",
       "17             False  \n",
       "20             False  \n",
       "23             False  \n",
       "24             False  \n",
       "25              True  "
      ]
     },
     "execution_count": 33,
     "metadata": {},
     "output_type": "execute_result"
    }
   ],
   "source": [
    "#we exclude apps that are not in the top 10 categories\n",
    "top_10_cat = ['Tools', 'Communication', 'Productivity', 'Entertainment', 'Social', 'Video Players & Editors', 'Photography', 'Action', 'Casual', 'Arcade']\n",
    "apps_with_top_10_cat = apps[apps.category.isin(top_10_cat)]\n",
    "\n",
    "\n",
    "apps_with_top_10_cat.head(10)"
   ]
  },
  {
   "cell_type": "markdown",
   "id": "d4081ad1",
   "metadata": {},
   "source": [
    "Let's look at the most installed app for each category "
   ]
  },
  {
   "cell_type": "code",
   "execution_count": 34,
   "id": "fc83bbc9",
   "metadata": {},
   "outputs": [
    {
     "data": {
      "text/html": [
       "<div>\n",
       "<style scoped>\n",
       "    .dataframe tbody tr th:only-of-type {\n",
       "        vertical-align: middle;\n",
       "    }\n",
       "\n",
       "    .dataframe tbody tr th {\n",
       "        vertical-align: top;\n",
       "    }\n",
       "\n",
       "    .dataframe thead th {\n",
       "        text-align: right;\n",
       "    }\n",
       "</style>\n",
       "<table border=\"1\" class=\"dataframe\">\n",
       "  <thead>\n",
       "    <tr style=\"text-align: right;\">\n",
       "      <th></th>\n",
       "      <th>app_name</th>\n",
       "      <th>category</th>\n",
       "      <th>maximum_installs</th>\n",
       "    </tr>\n",
       "  </thead>\n",
       "  <tbody>\n",
       "    <tr>\n",
       "      <th>881403</th>\n",
       "      <td>YouTube</td>\n",
       "      <td>Video Players &amp; Editors</td>\n",
       "      <td>9766230924</td>\n",
       "    </tr>\n",
       "    <tr>\n",
       "      <th>1773294</th>\n",
       "      <td>Google</td>\n",
       "      <td>Tools</td>\n",
       "      <td>9154248491</td>\n",
       "    </tr>\n",
       "    <tr>\n",
       "      <th>1060335</th>\n",
       "      <td>Google Text-to-Speech</td>\n",
       "      <td>Tools</td>\n",
       "      <td>9034404884</td>\n",
       "    </tr>\n",
       "    <tr>\n",
       "      <th>944254</th>\n",
       "      <td>Google Chrome: Fast &amp; Secure</td>\n",
       "      <td>Communication</td>\n",
       "      <td>8925640788</td>\n",
       "    </tr>\n",
       "    <tr>\n",
       "      <th>2099458</th>\n",
       "      <td>Gmail</td>\n",
       "      <td>Communication</td>\n",
       "      <td>8756574289</td>\n",
       "    </tr>\n",
       "    <tr>\n",
       "      <th>893676</th>\n",
       "      <td>Google Drive</td>\n",
       "      <td>Productivity</td>\n",
       "      <td>7028265259</td>\n",
       "    </tr>\n",
       "    <tr>\n",
       "      <th>385470</th>\n",
       "      <td>WhatsApp Messenger</td>\n",
       "      <td>Communication</td>\n",
       "      <td>6265637751</td>\n",
       "    </tr>\n",
       "    <tr>\n",
       "      <th>167781</th>\n",
       "      <td>Google TV (previously Play Movies &amp; TV)</td>\n",
       "      <td>Video Players &amp; Editors</td>\n",
       "      <td>6156518915</td>\n",
       "    </tr>\n",
       "    <tr>\n",
       "      <th>1830962</th>\n",
       "      <td>Google Photos</td>\n",
       "      <td>Photography</td>\n",
       "      <td>5754179589</td>\n",
       "    </tr>\n",
       "    <tr>\n",
       "      <th>2095852</th>\n",
       "      <td>Messenger – Text and Video Chat for Free</td>\n",
       "      <td>Communication</td>\n",
       "      <td>5054312355</td>\n",
       "    </tr>\n",
       "  </tbody>\n",
       "</table>\n",
       "</div>"
      ],
      "text/plain": [
       "                                         app_name                 category  \\\n",
       "881403                                    YouTube  Video Players & Editors   \n",
       "1773294                                    Google                    Tools   \n",
       "1060335                     Google Text-to-Speech                    Tools   \n",
       "944254               Google Chrome: Fast & Secure            Communication   \n",
       "2099458                                     Gmail            Communication   \n",
       "893676                               Google Drive             Productivity   \n",
       "385470                         WhatsApp Messenger            Communication   \n",
       "167781    Google TV (previously Play Movies & TV)  Video Players & Editors   \n",
       "1830962                             Google Photos              Photography   \n",
       "2095852  Messenger – Text and Video Chat for Free            Communication   \n",
       "\n",
       "         maximum_installs  \n",
       "881403         9766230924  \n",
       "1773294        9154248491  \n",
       "1060335        9034404884  \n",
       "944254         8925640788  \n",
       "2099458        8756574289  \n",
       "893676         7028265259  \n",
       "385470         6265637751  \n",
       "167781         6156518915  \n",
       "1830962        5754179589  \n",
       "2095852        5054312355  "
      ]
     },
     "execution_count": 34,
     "metadata": {},
     "output_type": "execute_result"
    }
   ],
   "source": [
    "#Create a dataframe using: \"app_name\", \"category\" and \"maximum installs\" for the top 10 categories\n",
    "filtered_top_apps_by_cat = apps_with_top_10_cat[['app_name', 'category', 'maximum_installs']].sort_values('maximum_installs', ascending = False)\n",
    "filtered_top_apps_by_cat.head(10)"
   ]
  },
  {
   "cell_type": "code",
   "execution_count": 35,
   "id": "84e924b7",
   "metadata": {},
   "outputs": [
    {
     "data": {
      "text/plain": [
       "{'Tools': 'Google',\n",
       " 'Communication': 'Google Chrome: Fast & Secure',\n",
       " 'Productivity': 'Google Drive',\n",
       " 'Video Players & Editors': 'YouTube',\n",
       " 'Action': 'Garena Free Fire - Rampage',\n",
       " 'Entertainment': 'Google Play Games',\n",
       " 'Casual': 'Candy Crush Saga',\n",
       " 'Arcade': 'Subway Surfers',\n",
       " 'Social': 'Currents',\n",
       " 'Photography': 'Google Photos'}"
      ]
     },
     "execution_count": 35,
     "metadata": {},
     "output_type": "execute_result"
    }
   ],
   "source": [
    "#to get the top app for each category\n",
    "#create dictionary with categories as the keys and empty values\n",
    "top_app_names_by_cat = {'Tools': '','Communication': '', 'Productivity': '', 'Video Players & Editors': '', 'Action':'', 'Entertainment': '', 'Casual': '', 'Arcade':'', 'Social': ''}\n",
    "\n",
    "for x in top_10_cat:\n",
    "    filtered = filtered_top_apps_by_cat[filtered_top_apps_by_cat['category'] == x]\n",
    "    name = filtered.iloc[0]['app_name']\n",
    "    top_app_names_by_cat[x] = name\n",
    "top_app_names_by_cat"
   ]
  },
  {
   "cell_type": "markdown",
   "id": "8220f195",
   "metadata": {},
   "source": [
    "These are the top 10 most installed categories with their corresponding most installed apps."
   ]
  },
  {
   "cell_type": "markdown",
   "id": "111eb965",
   "metadata": {},
   "source": [
    "##### 4. What are the top 10 categories in terms of ratings?"
   ]
  },
  {
   "cell_type": "code",
   "execution_count": 36,
   "id": "d04f6823",
   "metadata": {},
   "outputs": [],
   "source": [
    "# we select the columns we need by creating a dataframe using only the columns that we need\n",
    "apps_rating = apps[[\"category\", \"rating\", \"rating_count\"]]\n",
    "#we also omit apps with less than 10 ratings\n",
    "apps_rating = apps_rating[apps_rating[\"rating_count\"] > 10]\n"
   ]
  },
  {
   "cell_type": "code",
   "execution_count": 37,
   "id": "cd6f2a94",
   "metadata": {},
   "outputs": [
    {
     "data": {
      "text/html": [
       "<div>\n",
       "<style scoped>\n",
       "    .dataframe tbody tr th:only-of-type {\n",
       "        vertical-align: middle;\n",
       "    }\n",
       "\n",
       "    .dataframe tbody tr th {\n",
       "        vertical-align: top;\n",
       "    }\n",
       "\n",
       "    .dataframe thead th {\n",
       "        text-align: right;\n",
       "    }\n",
       "</style>\n",
       "<table border=\"1\" class=\"dataframe\">\n",
       "  <thead>\n",
       "    <tr style=\"text-align: right;\">\n",
       "      <th></th>\n",
       "      <th>category</th>\n",
       "      <th>rating</th>\n",
       "    </tr>\n",
       "  </thead>\n",
       "  <tbody>\n",
       "    <tr>\n",
       "      <th>1</th>\n",
       "      <td>Tools</td>\n",
       "      <td>4.4</td>\n",
       "    </tr>\n",
       "    <tr>\n",
       "      <th>6</th>\n",
       "      <td>Libraries &amp; Demo</td>\n",
       "      <td>4.5</td>\n",
       "    </tr>\n",
       "    <tr>\n",
       "      <th>7</th>\n",
       "      <td>Lifestyle</td>\n",
       "      <td>2.0</td>\n",
       "    </tr>\n",
       "    <tr>\n",
       "      <th>9</th>\n",
       "      <td>Personalization</td>\n",
       "      <td>4.7</td>\n",
       "    </tr>\n",
       "    <tr>\n",
       "      <th>10</th>\n",
       "      <td>Racing</td>\n",
       "      <td>4.9</td>\n",
       "    </tr>\n",
       "    <tr>\n",
       "      <th>...</th>\n",
       "      <td>...</td>\n",
       "      <td>...</td>\n",
       "    </tr>\n",
       "    <tr>\n",
       "      <th>2312931</th>\n",
       "      <td>Entertainment</td>\n",
       "      <td>2.8</td>\n",
       "    </tr>\n",
       "    <tr>\n",
       "      <th>2312932</th>\n",
       "      <td>Action</td>\n",
       "      <td>4.3</td>\n",
       "    </tr>\n",
       "    <tr>\n",
       "      <th>2312933</th>\n",
       "      <td>Music</td>\n",
       "      <td>4.0</td>\n",
       "    </tr>\n",
       "    <tr>\n",
       "      <th>2312938</th>\n",
       "      <td>Education</td>\n",
       "      <td>3.4</td>\n",
       "    </tr>\n",
       "    <tr>\n",
       "      <th>2312943</th>\n",
       "      <td>Trivia</td>\n",
       "      <td>5.0</td>\n",
       "    </tr>\n",
       "  </tbody>\n",
       "</table>\n",
       "<p>934450 rows × 2 columns</p>\n",
       "</div>"
      ],
      "text/plain": [
       "                 category  rating\n",
       "1                   Tools     4.4\n",
       "6        Libraries & Demo     4.5\n",
       "7               Lifestyle     2.0\n",
       "9         Personalization     4.7\n",
       "10                 Racing     4.9\n",
       "...                   ...     ...\n",
       "2312931     Entertainment     2.8\n",
       "2312932            Action     4.3\n",
       "2312933             Music     4.0\n",
       "2312938         Education     3.4\n",
       "2312943            Trivia     5.0\n",
       "\n",
       "[934450 rows x 2 columns]"
      ]
     },
     "execution_count": 37,
     "metadata": {},
     "output_type": "execute_result"
    }
   ],
   "source": [
    "#filter out rating count column\n",
    "apps_rating = apps_rating[[\"category\", \"rating\"]]\n",
    "apps_rating"
   ]
  },
  {
   "cell_type": "code",
   "execution_count": 38,
   "id": "4e542fa8",
   "metadata": {},
   "outputs": [
    {
     "data": {
      "text/plain": [
       "{'Tools': None,\n",
       " 'Libraries & Demo': None,\n",
       " 'Lifestyle': None,\n",
       " 'Personalization': None,\n",
       " 'Racing': None,\n",
       " 'Travel & Local': None,\n",
       " 'Food & Drink': None,\n",
       " 'Puzzle': None,\n",
       " 'Entertainment': None,\n",
       " 'Arcade': None,\n",
       " 'Maps & Navigation': None,\n",
       " 'Auto & Vehicles': None,\n",
       " 'Photography': None,\n",
       " 'Health & Fitness': None,\n",
       " 'Shopping': None,\n",
       " 'Books & Reference': None,\n",
       " 'Sports': None,\n",
       " 'Finance': None,\n",
       " 'Music': None,\n",
       " 'News & Magazines': None,\n",
       " 'House & Home': None,\n",
       " 'Education': None,\n",
       " 'Business': None,\n",
       " 'Card': None,\n",
       " 'Events': None,\n",
       " 'Productivity': None,\n",
       " 'Weather': None,\n",
       " 'Board': None,\n",
       " 'Social': None,\n",
       " 'Adventure': None,\n",
       " 'Medical': None,\n",
       " 'Strategy': None,\n",
       " 'Word': None,\n",
       " 'Beauty': None,\n",
       " 'Video Players & Editors': None,\n",
       " 'Action': None,\n",
       " 'Simulation': None,\n",
       " 'Casual': None,\n",
       " 'Trivia': None,\n",
       " 'Art & Design': None,\n",
       " 'Dating': None,\n",
       " 'Role Playing': None,\n",
       " 'Communication': None,\n",
       " 'Comics': None,\n",
       " 'Casino': None,\n",
       " 'Parenting': None}"
      ]
     },
     "execution_count": 38,
     "metadata": {},
     "output_type": "execute_result"
    }
   ],
   "source": [
    "#Let's get the top categories by rating. We will do this by calculating the mean of each category's rating.\n",
    "rating_mean = {}\n",
    "\n",
    "for x in apps_rating['category']:\n",
    "    if x not in rating_mean:\n",
    "        rating_mean[x] = None\n",
    "rating_mean\n",
    " "
   ]
  },
  {
   "cell_type": "code",
   "execution_count": 39,
   "id": "4e54d1be",
   "metadata": {},
   "outputs": [
    {
     "data": {
      "text/plain": [
       "{'Tools': 3.9065008521998026,\n",
       " 'Libraries & Demo': 4.0795381310418986,\n",
       " 'Lifestyle': 4.090446485583705,\n",
       " 'Personalization': 4.255502019861999,\n",
       " 'Racing': 3.9751015942482018,\n",
       " 'Travel & Local': 4.007391616551473,\n",
       " 'Food & Drink': 4.122804031050004,\n",
       " 'Puzzle': 4.206879606879594,\n",
       " 'Entertainment': 3.990452793686282,\n",
       " 'Arcade': 4.204442593363846,\n",
       " 'Maps & Navigation': 3.8802969079409713,\n",
       " 'Auto & Vehicles': 3.857521726101302,\n",
       " 'Photography': 3.895232965257213,\n",
       " 'Health & Fitness': 3.991402714932121,\n",
       " 'Shopping': 4.126252220248677,\n",
       " 'Books & Reference': 4.307820743121891,\n",
       " 'Sports': 4.0530504874987905,\n",
       " 'Finance': 3.966730686446554,\n",
       " 'Music': 4.283366692082812,\n",
       " 'News & Magazines': 4.114649681528672,\n",
       " 'House & Home': 3.762042025862053,\n",
       " 'Education': 4.185299058188553,\n",
       " 'Business': 3.9777829270553284,\n",
       " 'Card': 4.037012495266936,\n",
       " 'Events': 4.238588655649832,\n",
       " 'Productivity': 3.983148786389926,\n",
       " 'Weather': 4.123513050919985,\n",
       " 'Board': 4.046360218728645,\n",
       " 'Social': 4.149286862714595,\n",
       " 'Adventure': 4.050641515197842,\n",
       " 'Medical': 4.04573128408528,\n",
       " 'Strategy': 3.963091165224381,\n",
       " 'Word': 4.216697819314642,\n",
       " 'Beauty': 4.02107826086956,\n",
       " 'Video Players & Editors': 3.8201900762515115,\n",
       " 'Action': 3.9800505222912745,\n",
       " 'Simulation': 3.817106497771543,\n",
       " 'Casual': 4.076467670664629,\n",
       " 'Trivia': 4.075327396542692,\n",
       " 'Art & Design': 3.9905677246311813,\n",
       " 'Dating': 3.8596563981042706,\n",
       " 'Role Playing': 3.9821742160278757,\n",
       " 'Communication': 4.051336721166603,\n",
       " 'Comics': 3.939333722969026,\n",
       " 'Casino': 4.149409392106021,\n",
       " 'Parenting': 4.025377468060392}"
      ]
     },
     "execution_count": 39,
     "metadata": {},
     "output_type": "execute_result"
    }
   ],
   "source": [
    "for x in rating_mean:\n",
    "    mean = apps_rating.loc[apps_rating['category'] == x, 'rating'].mean()\n",
    "    rating_mean[x] = mean\n",
    "rating_mean"
   ]
  },
  {
   "cell_type": "code",
   "execution_count": 40,
   "id": "afaeb0ee",
   "metadata": {},
   "outputs": [
    {
     "data": {
      "text/plain": [
       "[('Books & Reference', 4.307820743121891),\n",
       " ('Music', 4.283366692082812),\n",
       " ('Personalization', 4.255502019861999),\n",
       " ('Events', 4.238588655649832),\n",
       " ('Word', 4.216697819314642),\n",
       " ('Puzzle', 4.206879606879594),\n",
       " ('Arcade', 4.204442593363846),\n",
       " ('Education', 4.185299058188553),\n",
       " ('Casino', 4.149409392106021),\n",
       " ('Social', 4.149286862714595)]"
      ]
     },
     "execution_count": 40,
     "metadata": {},
     "output_type": "execute_result"
    }
   ],
   "source": [
    "rating_mean = sorted(rating_mean.items(), key = lambda kv:kv[1], reverse = True)\n",
    "rating_mean[:10]"
   ]
  },
  {
   "cell_type": "markdown",
   "id": "12758bc5",
   "metadata": {},
   "source": [
    "These are the top 10 categories in terms of rating, with 'Books & References' topping the list"
   ]
  },
  {
   "cell_type": "markdown",
   "id": "50f83424",
   "metadata": {},
   "source": [
    "##### 5.  Do free apps or paid apps have a higher rating? (minimum of 100 ratings)?"
   ]
  },
  {
   "cell_type": "code",
   "execution_count": 47,
   "id": "2c242c75",
   "metadata": {},
   "outputs": [
    {
     "data": {
      "text/html": [
       "<div>\n",
       "<style scoped>\n",
       "    .dataframe tbody tr th:only-of-type {\n",
       "        vertical-align: middle;\n",
       "    }\n",
       "\n",
       "    .dataframe tbody tr th {\n",
       "        vertical-align: top;\n",
       "    }\n",
       "\n",
       "    .dataframe thead th {\n",
       "        text-align: right;\n",
       "    }\n",
       "</style>\n",
       "<table border=\"1\" class=\"dataframe\">\n",
       "  <thead>\n",
       "    <tr style=\"text-align: right;\">\n",
       "      <th></th>\n",
       "      <th>rating</th>\n",
       "      <th>free</th>\n",
       "      <th>rating_count</th>\n",
       "    </tr>\n",
       "  </thead>\n",
       "  <tbody>\n",
       "    <tr>\n",
       "      <th>9</th>\n",
       "      <td>4.7</td>\n",
       "      <td>True</td>\n",
       "      <td>820.0</td>\n",
       "    </tr>\n",
       "    <tr>\n",
       "      <th>12</th>\n",
       "      <td>3.9</td>\n",
       "      <td>True</td>\n",
       "      <td>118.0</td>\n",
       "    </tr>\n",
       "    <tr>\n",
       "      <th>14</th>\n",
       "      <td>3.7</td>\n",
       "      <td>True</td>\n",
       "      <td>1572.0</td>\n",
       "    </tr>\n",
       "    <tr>\n",
       "      <th>18</th>\n",
       "      <td>3.7</td>\n",
       "      <td>True</td>\n",
       "      <td>328.0</td>\n",
       "    </tr>\n",
       "    <tr>\n",
       "      <th>22</th>\n",
       "      <td>4.4</td>\n",
       "      <td>True</td>\n",
       "      <td>211.0</td>\n",
       "    </tr>\n",
       "    <tr>\n",
       "      <th>...</th>\n",
       "      <td>...</td>\n",
       "      <td>...</td>\n",
       "      <td>...</td>\n",
       "    </tr>\n",
       "    <tr>\n",
       "      <th>2312905</th>\n",
       "      <td>2.9</td>\n",
       "      <td>True</td>\n",
       "      <td>356.0</td>\n",
       "    </tr>\n",
       "    <tr>\n",
       "      <th>2312913</th>\n",
       "      <td>2.0</td>\n",
       "      <td>True</td>\n",
       "      <td>1687.0</td>\n",
       "    </tr>\n",
       "    <tr>\n",
       "      <th>2312931</th>\n",
       "      <td>2.8</td>\n",
       "      <td>True</td>\n",
       "      <td>1002.0</td>\n",
       "    </tr>\n",
       "    <tr>\n",
       "      <th>2312932</th>\n",
       "      <td>4.3</td>\n",
       "      <td>True</td>\n",
       "      <td>103466.0</td>\n",
       "    </tr>\n",
       "    <tr>\n",
       "      <th>2312933</th>\n",
       "      <td>4.0</td>\n",
       "      <td>True</td>\n",
       "      <td>344.0</td>\n",
       "    </tr>\n",
       "  </tbody>\n",
       "</table>\n",
       "<p>390841 rows × 3 columns</p>\n",
       "</div>"
      ],
      "text/plain": [
       "         rating  free  rating_count\n",
       "9           4.7  True         820.0\n",
       "12          3.9  True         118.0\n",
       "14          3.7  True        1572.0\n",
       "18          3.7  True         328.0\n",
       "22          4.4  True         211.0\n",
       "...         ...   ...           ...\n",
       "2312905     2.9  True         356.0\n",
       "2312913     2.0  True        1687.0\n",
       "2312931     2.8  True        1002.0\n",
       "2312932     4.3  True      103466.0\n",
       "2312933     4.0  True         344.0\n",
       "\n",
       "[390841 rows x 3 columns]"
      ]
     },
     "execution_count": 47,
     "metadata": {},
     "output_type": "execute_result"
    }
   ],
   "source": [
    "#We create a dataframe with the columns that we need\n",
    "apps_fp = apps[['rating', 'free', 'rating_count']]\n",
    "\n",
    "#remove apps with less than 100 rating count\n",
    "apps_fp = apps_fp[apps_fp.rating_count > 99]\n",
    "apps_fp"
   ]
  },
  {
   "cell_type": "code",
   "execution_count": 99,
   "id": "42641500",
   "metadata": {},
   "outputs": [
    {
     "data": {
      "text/plain": [
       "4.16163680069927"
      ]
     },
     "execution_count": 99,
     "metadata": {},
     "output_type": "execute_result"
    }
   ],
   "source": [
    "#mean of paid apps\n",
    "p_mean = apps_fp.loc[apps_fp['free'] == False, 'rating'].mean()\n",
    "p_mean"
   ]
  },
  {
   "cell_type": "code",
   "execution_count": 100,
   "id": "c4f81bc2",
   "metadata": {},
   "outputs": [
    {
     "data": {
      "text/plain": [
       "4.031493964981973"
      ]
     },
     "execution_count": 100,
     "metadata": {},
     "output_type": "execute_result"
    }
   ],
   "source": [
    "#mean of free apps\n",
    "p_mean = apps_fp.loc[apps_fp['free'] == True, 'rating'].mean()\n",
    "p_mean"
   ]
  },
  {
   "cell_type": "markdown",
   "id": "63c7103a",
   "metadata": {},
   "source": [
    "Paid apps have higher ratings than free apps"
   ]
  },
  {
   "cell_type": "markdown",
   "id": "2ec5b98a",
   "metadata": {},
   "source": [
    "##### 6. Do ad supported apps or non-ad supported apps have a higher rating? (minimum of 100 ratings.)"
   ]
  },
  {
   "cell_type": "code",
   "execution_count": 52,
   "id": "969932d4",
   "metadata": {},
   "outputs": [
    {
     "data": {
      "text/html": [
       "<div>\n",
       "<style scoped>\n",
       "    .dataframe tbody tr th:only-of-type {\n",
       "        vertical-align: middle;\n",
       "    }\n",
       "\n",
       "    .dataframe tbody tr th {\n",
       "        vertical-align: top;\n",
       "    }\n",
       "\n",
       "    .dataframe thead th {\n",
       "        text-align: right;\n",
       "    }\n",
       "</style>\n",
       "<table border=\"1\" class=\"dataframe\">\n",
       "  <thead>\n",
       "    <tr style=\"text-align: right;\">\n",
       "      <th></th>\n",
       "      <th>rating</th>\n",
       "      <th>rating_count</th>\n",
       "      <th>ad_supported</th>\n",
       "    </tr>\n",
       "  </thead>\n",
       "  <tbody>\n",
       "    <tr>\n",
       "      <th>9</th>\n",
       "      <td>4.7</td>\n",
       "      <td>820.0</td>\n",
       "      <td>True</td>\n",
       "    </tr>\n",
       "    <tr>\n",
       "      <th>12</th>\n",
       "      <td>3.9</td>\n",
       "      <td>118.0</td>\n",
       "      <td>True</td>\n",
       "    </tr>\n",
       "    <tr>\n",
       "      <th>14</th>\n",
       "      <td>3.7</td>\n",
       "      <td>1572.0</td>\n",
       "      <td>False</td>\n",
       "    </tr>\n",
       "    <tr>\n",
       "      <th>18</th>\n",
       "      <td>3.7</td>\n",
       "      <td>328.0</td>\n",
       "      <td>False</td>\n",
       "    </tr>\n",
       "    <tr>\n",
       "      <th>22</th>\n",
       "      <td>4.4</td>\n",
       "      <td>211.0</td>\n",
       "      <td>True</td>\n",
       "    </tr>\n",
       "    <tr>\n",
       "      <th>...</th>\n",
       "      <td>...</td>\n",
       "      <td>...</td>\n",
       "      <td>...</td>\n",
       "    </tr>\n",
       "    <tr>\n",
       "      <th>2312905</th>\n",
       "      <td>2.9</td>\n",
       "      <td>356.0</td>\n",
       "      <td>False</td>\n",
       "    </tr>\n",
       "    <tr>\n",
       "      <th>2312913</th>\n",
       "      <td>2.0</td>\n",
       "      <td>1687.0</td>\n",
       "      <td>False</td>\n",
       "    </tr>\n",
       "    <tr>\n",
       "      <th>2312931</th>\n",
       "      <td>2.8</td>\n",
       "      <td>1002.0</td>\n",
       "      <td>True</td>\n",
       "    </tr>\n",
       "    <tr>\n",
       "      <th>2312932</th>\n",
       "      <td>4.3</td>\n",
       "      <td>103466.0</td>\n",
       "      <td>True</td>\n",
       "    </tr>\n",
       "    <tr>\n",
       "      <th>2312933</th>\n",
       "      <td>4.0</td>\n",
       "      <td>344.0</td>\n",
       "      <td>False</td>\n",
       "    </tr>\n",
       "  </tbody>\n",
       "</table>\n",
       "<p>390841 rows × 3 columns</p>\n",
       "</div>"
      ],
      "text/plain": [
       "         rating  rating_count  ad_supported\n",
       "9           4.7         820.0          True\n",
       "12          3.9         118.0          True\n",
       "14          3.7        1572.0         False\n",
       "18          3.7         328.0         False\n",
       "22          4.4         211.0          True\n",
       "...         ...           ...           ...\n",
       "2312905     2.9         356.0         False\n",
       "2312913     2.0        1687.0         False\n",
       "2312931     2.8        1002.0          True\n",
       "2312932     4.3      103466.0          True\n",
       "2312933     4.0         344.0         False\n",
       "\n",
       "[390841 rows x 3 columns]"
      ]
     },
     "execution_count": 52,
     "metadata": {},
     "output_type": "execute_result"
    }
   ],
   "source": [
    "#create a dataframe with the columns needed\n",
    "apps_ad = apps[['rating', 'rating_count', 'ad_supported']]\n",
    "apps_ad = apps_ad[apps_ad.rating_count > 99]\n",
    "apps_ad"
   ]
  },
  {
   "cell_type": "code",
   "execution_count": 53,
   "id": "8ac5d75b",
   "metadata": {},
   "outputs": [
    {
     "data": {
      "text/plain": [
       "4.089361466994799"
      ]
     },
     "execution_count": 53,
     "metadata": {},
     "output_type": "execute_result"
    }
   ],
   "source": [
    "#find the mean of ad-supported apps\n",
    "mean_apps_ad = apps_ad.loc[apps_ad['ad_supported'] == True, 'rating'].mean()\n",
    "mean_apps_ad"
   ]
  },
  {
   "cell_type": "code",
   "execution_count": 54,
   "id": "6b831f75",
   "metadata": {},
   "outputs": [
    {
     "data": {
      "text/plain": [
       "3.922527973089741"
      ]
     },
     "execution_count": 54,
     "metadata": {},
     "output_type": "execute_result"
    }
   ],
   "source": [
    "#find the mean of non-ad-supported apps\n",
    "mean_apps_n_ad = apps_ad.loc[apps_ad['ad_supported'] == False, 'rating'].mean()\n",
    "mean_apps_n_ad"
   ]
  },
  {
   "cell_type": "markdown",
   "id": "43c7cd4f",
   "metadata": {},
   "source": [
    "Ad-supported apps have higher ratings than non-ad-supported ones"
   ]
  },
  {
   "cell_type": "markdown",
   "id": "4551a49d",
   "metadata": {},
   "source": [
    "## Answers\n",
    "1. What are the top 10 categories in terms of downloads?\n",
    "* category\t\n",
    "* Tools\n",
    "*Communication\t\n",
    "*Productivity\t\n",
    "*Photography\t\n",
    "*Video Players & Editors\t\n",
    "*Action\t\n",
    "*Entertainment\t\n",
    "*Casual\t\n",
    "*Arcade\t\n",
    "*Social\n",
    "\n",
    "2. What are top 10 most installed apps?\t\n",
    "* YouTube\t\n",
    "* Google\t\n",
    "*Google Text-to-Speech\t\n",
    "*Google Chrome: Fast & Secure\n",
    "*Gmail\n",
    "*Google Drive\n",
    "*WhatsApp Messenger\n",
    "*Google TV (previously Play Movies & TV)\n",
    "*Google Photos\n",
    "*Messenger – Text and Video Chat for Free\n",
    "\n",
    "3. What are the top 10 most installed apps for the top 10 categories?\n",
    "* Tools: Google\n",
    "* Communication: Google Chrome: Fast & Secure\n",
    "* Productivity: Google Drive\n",
    "*Video Players & Editors: YouTube\n",
    "*Action: Garena Free Fire - Rampag\n",
    "*Entertainment: Google Play Games\n",
    "*Casual: Candy Crush Saga\n",
    "*Arcade: Subway Surfer\n",
    "*Social: Currents\n",
    "*Photography: Google Photos\n",
    "\n",
    "4. What are the top 10 categories in terms of ratings?\n",
    "* Books & Reference: 4.31 stars\n",
    "* Music: 4.28 stars\n",
    "*Personalization: 4.25 stars\n",
    "*Events: 4.24 stars\n",
    "*Word: 4.22 stars\n",
    "*Puzzle: 4.21 stars\n",
    "*Arcade: 4.20 stars\n",
    "*Education: 4.19 stars\n",
    "*Casino: 4.15 stars\n",
    "*Social: 4.15 stars\n",
    "\n",
    "5. Do free apps or paid apps have a higher rating? (minimum of 100 ratings)?\n",
    "    Paid apps have higher ratings than free apps\n",
    "    \n",
    "\n",
    "6. Do ad supported apps or non-ad supported apps have a higher rating? (minimum of 100 ratings.)\n",
    "    Ad-supported apps have higher ratings than non-ad-supported ones\n"
   ]
  },
  {
   "cell_type": "markdown",
   "id": "df41ce72",
   "metadata": {},
   "source": [
    "# Summary and Conclusion\n",
    "Tools, Communication and Productivity seem to be the most downloaded categories. There is a possiblity that this result is skewed because of apps like Google which come already installed to every android device. From our analysis we can observe that 6 out of the top 10 apps of the categories are Google apps.\n",
    "\n",
    "Our analysis of the top categories by ratings further provides a clearer picture of what apps are favored more by consumers. This is because people choose to leave ratings, which better reflects the opinion of the public. It is also better metric because there is a range of 0.0 through 5.0 to base our analysis on, while the install count is just a single count of installs. Books & Reference is the top category based on this metric.\n",
    "\n",
    "The analysis also showed that paid apps have a higher rating on average. This may be because that in order to justify charging money for an app, the app has to be high-quality enough for a customer to want to buy it.\n",
    "\n",
    "The final part of our analysis determined that ad-supported apps have a higher rating than non ad-supported apps. This could be for the same reason that paid apps are rated higher than free apps. The ad-supported apps may be higher quality, but instead of charging money for apps, developers will implement ads and list the applciation in the store for free."
   ]
  }
 ],
 "metadata": {
  "kernelspec": {
   "display_name": "Python 3 (ipykernel)",
   "language": "python",
   "name": "python3"
  },
  "language_info": {
   "codemirror_mode": {
    "name": "ipython",
    "version": 3
   },
   "file_extension": ".py",
   "mimetype": "text/x-python",
   "name": "python",
   "nbconvert_exporter": "python",
   "pygments_lexer": "ipython3",
   "version": "3.9.12"
  }
 },
 "nbformat": 4,
 "nbformat_minor": 5
}
